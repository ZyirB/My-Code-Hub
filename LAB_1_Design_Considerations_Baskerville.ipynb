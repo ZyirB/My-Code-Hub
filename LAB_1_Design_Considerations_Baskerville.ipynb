{
  "nbformat": 4,
  "nbformat_minor": 0,
  "metadata": {
    "colab": {
      "provenance": [],
      "authorship_tag": "ABX9TyPeppZfUsHdYnIVeDyh2IfF",
      "include_colab_link": true
    },
    "kernelspec": {
      "name": "python3",
      "display_name": "Python 3"
    },
    "language_info": {
      "name": "python"
    }
  },
  "cells": [
    {
      "cell_type": "markdown",
      "metadata": {
        "id": "view-in-github",
        "colab_type": "text"
      },
      "source": [
        "<a href=\"https://colab.research.google.com/github/ZyirB/Database-Systems-Code/blob/main/LAB_1_Design_Considerations_Baskerville.ipynb\" target=\"_parent\"><img src=\"https://colab.research.google.com/assets/colab-badge.svg\" alt=\"Open In Colab\"/></a>"
      ]
    },
    {
      "cell_type": "code",
      "execution_count": 2,
      "metadata": {
        "id": "f12dXPraL0S9"
      },
      "outputs": [],
      "source": [
        "import sqlite3\n",
        "\n",
        "#establish connection\n",
        "conn = sqlite3.connect('demo.db')\n",
        "\n",
        "#used to execute SQL commands\n",
        "cursor = conn.cursor()"
      ]
    },
    {
      "cell_type": "code",
      "source": [
        "#create 'Users' table\n",
        "cursor.execute('''CREATE TABLE IF NOT EXISTS Users (\n",
        "    user_id INTEGER PRIMARY KEY,\n",
        "    username TEXT UNIQUE,\n",
        "    email TEXT UNIQUE,\n",
        "    password TEXT,\n",
        "    created_at TIMESTAMP DEFAULT CURRENT_TIMESTAMP\n",
        ")''')\n",
        "\n",
        "#create 'UserActivities' table\n",
        "cursor.execute('''CREATE TABLE IF NOT EXISTS UserActivities (\n",
        "  activity_id INTEGER PRIMARY KEY,\n",
        "  user_id INTEGER,\n",
        "  activity TEXT,\n",
        "  activity_time TIMESTAMP DEFAULT CURRENT_TIMESTAMP,\n",
        "  FOREIGN KEY (user_id) REFERENCES USERS(user_id)\n",
        ")''')\n",
        "\n",
        "#create 'UserConnections' table\n",
        "cursor.execute('''CREATE TABLE IF NOT EXISTS UserConnections (\n",
        "  connection_id INTEGER PRIMARY KEY,\n",
        "  user1_id INTEGER,\n",
        "  user2_id INTEGER,\n",
        "  connection_time TIMESTAMP DEFAULT CURRENT_TIMESTAMP,\n",
        "  FOREIGN KEY (user1_id) REFERENCES Users(user_id),\n",
        "  FOREIGN KEY (user2_id) REFERENCES Users(user_id)\n",
        ")''')"
      ],
      "metadata": {
        "colab": {
          "base_uri": "https://localhost:8080/",
          "height": 0
        },
        "id": "sPCAAQQ-7ZqW",
        "outputId": "ef4314a9-8820-40ba-9e41-22ec1ed5348c"
      },
      "execution_count": 10,
      "outputs": [
        {
          "output_type": "execute_result",
          "data": {
            "text/plain": [
              "<sqlite3.Cursor at 0x7903754025c0>"
            ]
          },
          "metadata": {},
          "execution_count": 10
        }
      ]
    },
    {
      "cell_type": "code",
      "source": [
        "#create indexes for data retrieval\n",
        "cursor.execute(\"CREATE INDEX IF NOT EXISTS idx_users_id ON UserActivities(user_id)\")\n",
        "cursor.execute(\"CREATE INDEX IF NOT EXISTS idx_user1_user2 ON UserConnections(user1_id, user2_id)\")"
      ],
      "metadata": {
        "colab": {
          "base_uri": "https://localhost:8080/",
          "height": 0
        },
        "id": "eL0xmjGO85Lu",
        "outputId": "6ac326f7-5c4c-4561-a7ee-9bcf9da89755"
      },
      "execution_count": 14,
      "outputs": [
        {
          "output_type": "execute_result",
          "data": {
            "text/plain": [
              "<sqlite3.Cursor at 0x7903754025c0>"
            ]
          },
          "metadata": {},
          "execution_count": 14
        }
      ]
    },
    {
      "cell_type": "code",
      "source": [
        "#commit (save) changes\n",
        "conn.commit()"
      ],
      "metadata": {
        "id": "CAsFDTJCCNBV"
      },
      "execution_count": 15,
      "outputs": []
    },
    {
      "cell_type": "code",
      "source": [
        "#add (insert) data into Users table\n",
        "cursor.execute(\"INSERT INTO Users (username, email, password) VALUES (?, ?, ?)\", ('alice5', 'alice5@example.com', 'password123'))\n",
        "cursor.execute(\"INSERT INTO USers (username, email, password) VALUES (?, ?, ?)\", ('bob', 'bob@example.com', 'secret123'))\n",
        "\n",
        "#add (insert) data into UserActivities table\n",
        "cursor.execute(\"INSERT INTO UserActivities (user_id, activity) VALUES (?, ?)\", (1, 'Logged in'))\n",
        "cursor.execute(\"INSERT INTO UserActivities (user_id, activity) VALUES (?, ?)\", (2, 'Posted a comment'))\n",
        "\n",
        "#add (insert) data into UserConnections\n",
        "cursor.execute(\"INSERT INTO UserConnections (user1_id, user2_id) VALUES (?, ?)\", (1, 2))\n",
        "cursor.execute(\"INSERT INTO UserConnections (user1_id, user2_id) VALUES (?, ?)\", (2, 1))"
      ],
      "metadata": {
        "colab": {
          "base_uri": "https://localhost:8080/",
          "height": 0
        },
        "id": "Sd8Y4x4YCbui",
        "outputId": "959a1397-4396-4033-f6b3-09886ab9769a"
      },
      "execution_count": 39,
      "outputs": [
        {
          "output_type": "execute_result",
          "data": {
            "text/plain": [
              "<sqlite3.Cursor at 0x7903754025c0>"
            ]
          },
          "metadata": {},
          "execution_count": 39
        }
      ]
    },
    {
      "cell_type": "code",
      "source": [
        "#commit (save) changes\n",
        "conn.commit()"
      ],
      "metadata": {
        "id": "SdfhNxtZKYU0"
      },
      "execution_count": 40,
      "outputs": []
    },
    {
      "cell_type": "code",
      "source": [
        "#query and print data from the Users table\n",
        "print(\"Users:\")\n",
        "cursor.execute(\"SELECT * FROM Users\")\n",
        "for row in cursor.fetchall():\n",
        "  print(row)\n"
      ],
      "metadata": {
        "colab": {
          "base_uri": "https://localhost:8080/",
          "height": 0
        },
        "id": "x0B525RzKi7A",
        "outputId": "2bf56e7f-cec2-406b-acfa-38b6224ede86"
      },
      "execution_count": 42,
      "outputs": [
        {
          "output_type": "stream",
          "name": "stdout",
          "text": [
            "Users:\n",
            "(1, 'alice', 'alice@example.com', 'password123', '2024-03-25 00:40:39')\n",
            "(2, 'alice1', 'alice1@example.com', 'password123', '2024-03-25 00:58:13')\n",
            "(3, 'alice2', 'alice2@example.com', 'password123', '2024-03-25 00:59:11')\n",
            "(4, 'alice4', 'alice4@example.com', 'password123', '2024-03-25 01:01:58')\n",
            "(5, 'bob3', 'bob3@example.com', 'secret123', '2024-03-25 01:01:58')\n",
            "(6, 'alice5', 'alice5@example.com', 'password123', '2024-03-25 01:11:06')\n",
            "(7, 'bob', 'bob@example.com', 'secret123', '2024-03-25 01:11:06')\n"
          ]
        }
      ]
    },
    {
      "cell_type": "code",
      "source": [
        "#query and print data from the UserActivities table\n",
        "print(\"\\nUser Activities:\")\n",
        "cursor.execute(\"SELECT * FROM UserActivities\")\n",
        "for row in cursor.fetchall():\n",
        "  print(row)"
      ],
      "metadata": {
        "colab": {
          "base_uri": "https://localhost:8080/",
          "height": 0
        },
        "id": "Ekz1aoWxLv8S",
        "outputId": "f9f0fefc-d3b4-4482-ca86-8cb389f9f430"
      },
      "execution_count": 44,
      "outputs": [
        {
          "output_type": "stream",
          "name": "stdout",
          "text": [
            "/nUser Activities:\n",
            "(1, 1, 'Logged in', '2024-03-25 01:11:06')\n",
            "(2, 2, 'Posted a comment', '2024-03-25 01:11:06')\n"
          ]
        }
      ]
    },
    {
      "cell_type": "code",
      "source": [
        "#query and print data from the UserConnections table\n",
        "print(\"\\nUser Connections:\")\n",
        "cursor.execute(\"SELECT * FROM UserConnections\")\n",
        "for row in cursor.fetchall():\n",
        "  print(row)"
      ],
      "metadata": {
        "colab": {
          "base_uri": "https://localhost:8080/",
          "height": 0
        },
        "id": "oZN4C0B3Mv9o",
        "outputId": "78c063c7-a607-46f7-e030-12859abfb860"
      },
      "execution_count": 45,
      "outputs": [
        {
          "output_type": "stream",
          "name": "stdout",
          "text": [
            "\n",
            "User Connections:\n",
            "(1, 1, 2, '2024-03-25 01:11:06')\n",
            "(2, 2, 1, '2024-03-25 01:11:06')\n"
          ]
        }
      ]
    },
    {
      "cell_type": "code",
      "source": [
        "#close the database connection\n",
        "conn.close()"
      ],
      "metadata": {
        "id": "QhwDc_F9Nm2i"
      },
      "execution_count": 46,
      "outputs": []
    }
  ]
}