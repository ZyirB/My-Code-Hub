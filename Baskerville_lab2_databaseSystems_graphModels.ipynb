{
  "nbformat": 4,
  "nbformat_minor": 0,
  "metadata": {
    "colab": {
      "provenance": [],
      "authorship_tag": "ABX9TyMRkhqP0YXI5jLu3+fMAuam",
      "include_colab_link": true
    },
    "kernelspec": {
      "name": "python3",
      "display_name": "Python 3"
    },
    "language_info": {
      "name": "python"
    }
  },
  "cells": [
    {
      "cell_type": "markdown",
      "metadata": {
        "id": "view-in-github",
        "colab_type": "text"
      },
      "source": [
        "<a href=\"https://colab.research.google.com/github/ZyirB/Database-Systems-Code/blob/main/Baskerville_lab2_databaseSystems_graphModels.ipynb\" target=\"_parent\"><img src=\"https://colab.research.google.com/assets/colab-badge.svg\" alt=\"Open In Colab\"/></a>"
      ]
    },
    {
      "cell_type": "code",
      "execution_count": null,
      "metadata": {
        "id": "r3fZX0HVwFPf"
      },
      "outputs": [],
      "source": [
        "# Lab Assignment #2 Database Design and Implementation"
      ]
    },
    {
      "cell_type": "code",
      "source": [
        "# if no module found, install using this command: !pip install networkx\n",
        "import networkx as nx"
      ],
      "metadata": {
        "id": "Uym9yykhwlhf"
      },
      "execution_count": 2,
      "outputs": []
    },
    {
      "cell_type": "code",
      "source": [
        "# if no module found, install using this command: !pip install matplotlib\n",
        "import matplotlib.pyplot as plt"
      ],
      "metadata": {
        "id": "h3TzQ6buw-Fu"
      },
      "execution_count": 3,
      "outputs": []
    },
    {
      "cell_type": "code",
      "source": [
        "# create graph to represent the social network of students and their connections\n",
        "G = nx.Graph()"
      ],
      "metadata": {
        "id": "G-LpVZ5ExXXO"
      },
      "execution_count": 4,
      "outputs": []
    },
    {
      "cell_type": "code",
      "source": [
        "# student list\n",
        "students = [\"Alice\", \"Bob\", \"Charlie\", \"David\", \"Eve\", \"Frank\", \"Grace\"]\n",
        "\n",
        "# add students as nodes to the graph\n",
        "G.add_nodes_from(students)"
      ],
      "metadata": {
        "id": "ZxdsaWY-xqmp"
      },
      "execution_count": 5,
      "outputs": []
    },
    {
      "cell_type": "code",
      "source": [
        "print(students)"
      ],
      "metadata": {
        "colab": {
          "base_uri": "https://localhost:8080/"
        },
        "id": "l3NcdnLyyQAP",
        "outputId": "0bf6068a-34bb-4291-bd9c-906e8bc5d9b5"
      },
      "execution_count": 6,
      "outputs": [
        {
          "output_type": "stream",
          "name": "stdout",
          "text": [
            "['Alice', 'Bob', 'Charlie', 'David', 'Eve', 'Frank', 'Grace']\n"
          ]
        }
      ]
    },
    {
      "cell_type": "code",
      "source": [
        "# list of connections between students, represents a connection between two students\n",
        "connections = [\n",
        "    (\"Alice\", \"Bob\"),\n",
        "    (\"Alice\", \"Charlie\"),\n",
        "    (\"Bob\", \"Charlie\"),\n",
        "    (\"Bob\", \"David\"),\n",
        "    (\"Charlie\",\"David\"),\n",
        "    (\"Charlie\", \"Eve\"),\n",
        "    (\"David\", \"Eve\"),\n",
        "    (\"Eve\", \"Frank\"),\n",
        "    (\"Frank\", \"Grace\"),\n",
        "    (\"Grace\", \"Eve\")\n",
        "]\n",
        "\n",
        "# add connections as edges to the graph\n",
        "G.add_edges_from(connections)"
      ],
      "metadata": {
        "id": "LjVphJbsyTh4"
      },
      "execution_count": 7,
      "outputs": []
    },
    {
      "cell_type": "code",
      "source": [
        "print(connections)"
      ],
      "metadata": {
        "colab": {
          "base_uri": "https://localhost:8080/"
        },
        "id": "Ii_nTE9e0skk",
        "outputId": "fd4c71ca-c8d4-47cb-ad99-7ee46d792f52"
      },
      "execution_count": 8,
      "outputs": [
        {
          "output_type": "stream",
          "name": "stdout",
          "text": [
            "[('Alice', 'Bob'), ('Alice', 'Charlie'), ('Bob', 'Charlie'), ('Bob', 'David'), ('Charlie', 'David'), ('Charlie', 'Eve'), ('David', 'Eve'), ('Eve', 'Frank'), ('Frank', 'Grace'), ('Grace', 'Eve')]\n"
          ]
        }
      ]
    },
    {
      "cell_type": "code",
      "source": [
        "# print basic information about the graph\n",
        "print(\"Nodes of the graph:\", G.nodes())\n",
        "print(\"Edges of the graph:\", G.edges())\n",
        "print(\"Number of nodes:\", G.number_of_nodes())\n",
        "print(\"Number of edges:\", G.number_of_edges())"
      ],
      "metadata": {
        "colab": {
          "base_uri": "https://localhost:8080/"
        },
        "id": "eHJxNGE90yW-",
        "outputId": "6d1a319f-83a1-4b71-9182-2d1b38de8fea"
      },
      "execution_count": 9,
      "outputs": [
        {
          "output_type": "stream",
          "name": "stdout",
          "text": [
            "Nodes of the graph: ['Alice', 'Bob', 'Charlie', 'David', 'Eve', 'Frank', 'Grace']\n",
            "Edges of the graph: [('Alice', 'Bob'), ('Alice', 'Charlie'), ('Bob', 'Charlie'), ('Bob', 'David'), ('Charlie', 'David'), ('Charlie', 'Eve'), ('David', 'Eve'), ('Eve', 'Frank'), ('Eve', 'Grace'), ('Frank', 'Grace')]\n",
            "Number of nodes: 7\n",
            "Number of edges: 10\n"
          ]
        }
      ]
    },
    {
      "cell_type": "code",
      "source": [
        "# visualize network\n",
        "nx.draw(G, with_labels=True, font_weight='bold', node_color='skyblue', node_size=1000, edge_color='gray')\n",
        "plt.title(\"Social Network Graph Model\")\n",
        "plt.show()"
      ],
      "metadata": {
        "colab": {
          "base_uri": "https://localhost:8080/",
          "height": 539
        },
        "id": "rVwGP4Yb1y93",
        "outputId": "a2b1df88-f327-4eed-98ad-fea890d80e91"
      },
      "execution_count": 11,
      "outputs": [
        {
          "output_type": "display_data",
          "data": {
            "text/plain": [
              "<Figure size 640x480 with 1 Axes>"
            ],
            "image/png": "[encoded data removed]"
          },
          "metadata": {}
        }
      ]
    },
    {
      "cell_type": "code",
      "source": [
        "# centrality means a network is directly connected to many others (degree centrality)\n",
        "degree_centrality = nx.degree_centrality(G)\n",
        "print(\"\\nDegree Centrality:\")\n",
        "for student, centrality in degree_centrality.items():\n",
        "  print(f\"{student}: {centrality:.2f}\")"
      ],
      "metadata": {
        "colab": {
          "base_uri": "https://localhost:8080/"
        },
        "id": "otWmet8N22Hp",
        "outputId": "4145d06a-22eb-49a4-c817-dc4191879c8b"
      },
      "execution_count": 12,
      "outputs": [
        {
          "output_type": "stream",
          "name": "stdout",
          "text": [
            "\n",
            "Degree Centrality:\n",
            "Alice: 0.33\n",
            "Bob: 0.50\n",
            "Charlie: 0.67\n",
            "David: 0.50\n",
            "Eve: 0.67\n",
            "Frank: 0.33\n",
            "Grace: 0.33\n"
          ]
        }
      ]
    },
    {
      "cell_type": "code",
      "source": [
        "# serve as a key broker between many other nodes (betweenness centrality)\n",
        "betweenness_centrality = nx.betweenness_centrality(G)\n",
        "print(\"\\nBetweenness Centrality:\")\n",
        "for student, centrality in betweenness_centrality.items():\n",
        "  print(f\"{student}: {centrality:.2f}\")"
      ],
      "metadata": {
        "colab": {
          "base_uri": "https://localhost:8080/"
        },
        "id": "Ea74WZn74ODG",
        "outputId": "e0f6356a-3e97-420d-f2d9-7fc3fcf7a18f"
      },
      "execution_count": 13,
      "outputs": [
        {
          "output_type": "stream",
          "name": "stdout",
          "text": [
            "\n",
            "Betweenness Centrality:\n",
            "Alice: 0.00\n",
            "Bob: 0.03\n",
            "Charlie: 0.33\n",
            "David: 0.10\n",
            "Eve: 0.53\n",
            "Frank: 0.00\n",
            "Grace: 0.00\n"
          ]
        }
      ]
    },
    {
      "cell_type": "code",
      "source": [
        "# close to many others indirectly (closeness centrality)\n",
        "closeness_centrality = nx.closeness_centrality(G)\n",
        "print(\"\\nCloseness Centrality:\")\n",
        "for student, centrality in closeness_centrality.items():\n",
        "  print(f\"{student}: {centrality:.2f}\")"
      ],
      "metadata": {
        "colab": {
          "base_uri": "https://localhost:8080/"
        },
        "id": "gnx0s07454p3",
        "outputId": "5c8d554c-065a-4402-d444-8b2c7e1e0967"
      },
      "execution_count": 14,
      "outputs": [
        {
          "output_type": "stream",
          "name": "stdout",
          "text": [
            "\n",
            "Closeness Centrality:\n",
            "Alice: 0.50\n",
            "Bob: 0.55\n",
            "Charlie: 0.75\n",
            "David: 0.67\n",
            "Eve: 0.75\n",
            "Frank: 0.50\n",
            "Grace: 0.50\n"
          ]
        }
      ]
    }
  ]
}