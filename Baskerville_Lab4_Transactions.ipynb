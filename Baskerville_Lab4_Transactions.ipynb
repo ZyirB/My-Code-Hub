{
  "nbformat": 4,
  "nbformat_minor": 0,
  "metadata": {
    "colab": {
      "provenance": [],
      "authorship_tag": "ABX9TyPLMNWHZupudSYCbHqFxMDP",
      "include_colab_link": true
    },
    "kernelspec": {
      "name": "python3",
      "display_name": "Python 3"
    },
    "language_info": {
      "name": "python"
    }
  },
  "cells": [
    {
      "cell_type": "markdown",
      "metadata": {
        "id": "view-in-github",
        "colab_type": "text"
      },
      "source": [
        "<a href=\"https://colab.research.google.com/github/ZyirB/Database-Systems-Code/blob/main/Baskerville_Lab4_Transactions.ipynb\" target=\"_parent\"><img src=\"https://colab.research.google.com/assets/colab-badge.svg\" alt=\"Open In Colab\"/></a>"
      ]
    },
    {
      "cell_type": "code",
      "execution_count": 1,
      "metadata": {
        "id": "k7kxR0S1U3G5"
      },
      "outputs": [],
      "source": [
        "import sqlite3"
      ]
    },
    {
      "cell_type": "code",
      "source": [
        "# connect to SQLite database\n",
        "conn = sqlite3.connect(':memory:')\n",
        "cursor = conn.cursor()\n",
        "\n",
        "print(\"establish in-memory database connection\")"
      ],
      "metadata": {
        "colab": {
          "base_uri": "https://localhost:8080/"
        },
        "id": "D3htWICuVEA8",
        "outputId": "b8544761-1883-4620-a960-c02328814c97"
      },
      "execution_count": 2,
      "outputs": [
        {
          "output_type": "stream",
          "name": "stdout",
          "text": [
            "establish in-memory database connection\n"
          ]
        }
      ]
    },
    {
      "cell_type": "code",
      "source": [
        "# create users table\n",
        "cursor.execute('''CREATE TABLE IF NOT EXISTS users (\n",
        "  id INTEGER PRIMARY KEY,\n",
        "  name TEXT,\n",
        "  balance REAL\n",
        ")''')"
      ],
      "metadata": {
        "colab": {
          "base_uri": "https://localhost:8080/"
        },
        "id": "i-A7JXaCVsoo",
        "outputId": "37635ffc-485b-4d09-8b96-08b8b9865895"
      },
      "execution_count": 3,
      "outputs": [
        {
          "output_type": "execute_result",
          "data": {
            "text/plain": [
              "<sqlite3.Cursor at 0x7d694c0872c0>"
            ]
          },
          "metadata": {},
          "execution_count": 3
        }
      ]
    },
    {
      "cell_type": "code",
      "source": [
        "# add/insert data\n",
        "cursor.execute(\"INSERT INTO users (name, balance) VALUES (?, ?)\", ('Alice', 1000.0))\n",
        "cursor.execute(\"INSERT INTO users (name, balance) VALUES (?, ?)\", ('Bob', 500.0))"
      ],
      "metadata": {
        "colab": {
          "base_uri": "https://localhost:8080/"
        },
        "id": "wabFWBT1Xbba",
        "outputId": "0a12b9d5-71d5-4aaa-9091-c0fdf8642e10"
      },
      "execution_count": 4,
      "outputs": [
        {
          "output_type": "execute_result",
          "data": {
            "text/plain": [
              "<sqlite3.Cursor at 0x7d694c0872c0>"
            ]
          },
          "metadata": {},
          "execution_count": 4
        }
      ]
    },
    {
      "cell_type": "code",
      "source": [
        "# function to handle transfer funds transaction\n",
        "def transfer_funds(sender, recipient, amount):\n",
        "  try:\n",
        "    # check if transaction is active\n",
        "    if not conn.in_transaction:\n",
        "      # start transaction\n",
        "      conn.execute(\"BEGIN\")\n",
        "\n",
        "    # check if sender has sufficient balance\n",
        "    cursor.execute(\"SELECT balance FROM users WHERE name=?\", (sender,))\n",
        "    sender_balance = cursor.fetchone()[0]\n",
        "    if sender_balance < amount:\n",
        "      raise ValueError(\"Insufficient funds\")\n",
        "\n",
        "    # update sender's balance\n",
        "    cursor.execute(\"UPDATE users SET balance = balance - ? WHERE name=?\", (amount, sender))\n",
        "\n",
        "    # update recipient's balance\n",
        "    cursor.execute(\"UPDATE users SET balance = balance + ? WHERE name=?\", (amount, recipient))\n",
        "\n",
        "    # commit transaction\n",
        "    if not conn.in_transaction:\n",
        "      # commit only if not in already in a transaction\n",
        "      conn.commit()\n",
        "    print(\"Transaction successful\")\n",
        "  except Exception as e:\n",
        "    # rollback transaction if any error occurs\n",
        "    if not conn.in_transaction:\n",
        "      conn.rollback()\n",
        "    print(f\"Transaction failed: {e}\")\n",
        "\n",
        "print(\"created function to handle transfer of funds\")"
      ],
      "metadata": {
        "colab": {
          "base_uri": "https://localhost:8080/"
        },
        "id": "RKBPH-HHZEsJ",
        "outputId": "a01d7496-e1c5-4808-9267-23f7f75265b7"
      },
      "execution_count": 5,
      "outputs": [
        {
          "output_type": "stream",
          "name": "stdout",
          "text": [
            "created function to handle transfer of funds\n"
          ]
        }
      ]
    },
    {
      "cell_type": "code",
      "source": [
        "# perform a fund transfer\n",
        "transfer_funds('Alice', 'Bob', 200.0)"
      ],
      "metadata": {
        "colab": {
          "base_uri": "https://localhost:8080/"
        },
        "id": "bwEeDl1m9f9J",
        "outputId": "2a815d9d-5954-44a8-950f-a9c6ea915f9f"
      },
      "execution_count": 6,
      "outputs": [
        {
          "output_type": "stream",
          "name": "stdout",
          "text": [
            "Transaction successful\n"
          ]
        }
      ]
    },
    {
      "cell_type": "code",
      "source": [
        "# display balances after transaction\n",
        "cursor.execute(\"SELECT name, balance FROM users\")\n",
        "print(cursor.fetchall())"
      ],
      "metadata": {
        "colab": {
          "base_uri": "https://localhost:8080/"
        },
        "id": "a0PmxBjx--Rw",
        "outputId": "986c7dd1-7f53-4b1c-82aa-ed74378a1528"
      },
      "execution_count": 7,
      "outputs": [
        {
          "output_type": "stream",
          "name": "stdout",
          "text": [
            "[('Alice', 800.0), ('Bob', 700.0)]\n"
          ]
        }
      ]
    },
    {
      "cell_type": "code",
      "source": [
        "# close database connection\n",
        "conn.close()\n",
        "\n",
        "print(\"close database connection\")"
      ],
      "metadata": {
        "colab": {
          "base_uri": "https://localhost:8080/"
        },
        "id": "9cC_vQdX_jiD",
        "outputId": "bafabf2a-4236-44a3-a0a9-90278991b01d"
      },
      "execution_count": 8,
      "outputs": [
        {
          "output_type": "stream",
          "name": "stdout",
          "text": [
            "close database connection\n"
          ]
        }
      ]
    }
  ]
}