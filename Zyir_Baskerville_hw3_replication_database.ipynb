{
  "nbformat": 4,
  "nbformat_minor": 0,
  "metadata": {
    "colab": {
      "provenance": [],
      "authorship_tag": "ABX9TyOj+r2SI5Vzex7OjuzjCGsl",
      "include_colab_link": true
    },
    "kernelspec": {
      "name": "python3",
      "display_name": "Python 3"
    },
    "language_info": {
      "name": "python"
    }
  },
  "cells": [
    {
      "cell_type": "markdown",
      "metadata": {
        "id": "view-in-github",
        "colab_type": "text"
      },
      "source": [
        "<a href=\"https://colab.research.google.com/github/ZyirB/Database-Systems-Code/blob/main/Zyir_Baskerville_hw3_replication_database.ipynb\" target=\"_parent\"><img src=\"https://colab.research.google.com/assets/colab-badge.svg\" alt=\"Open In Colab\"/></a>"
      ]
    },
    {
      "cell_type": "code",
      "execution_count": null,
      "metadata": {
        "colab": {
          "base_uri": "https://localhost:8080/"
        },
        "id": "d5208ryNGNRD",
        "outputId": "7a43a17d-19b6-444f-a433-097c33725899"
      },
      "outputs": [
        {
          "output_type": "stream",
          "name": "stdout",
          "text": [
            "imported some packages\n"
          ]
        }
      ],
      "source": [
        "# package to handle thread-base parallelism\n",
        "import threading\n",
        "# package to handle time related functions\n",
        "import time\n",
        "\n",
        "print(\"imported some packages\")"
      ]
    },
    {
      "cell_type": "code",
      "source": [
        "# represents a distributed database system\n",
        "class DatabaseNode:\n",
        "  def __init__(self, node_id):\n",
        "    # unique identifier for each node\n",
        "    self.node_id = node_id\n",
        "    # data stored locally within the node\n",
        "    self.data = {}\n",
        "    # list of replica nodes\n",
        "    self.replica_nodes = []\n",
        "\n",
        "  # simulates a wrtie operation on the database node\n",
        "  def write_data(self, key, value):\n",
        "    print(f\"Node {self.node_id}: Write Operation - Key: {key}, Value: {value}\")\n",
        "    self.data[key] = value\n",
        "\n",
        "    # iterates over each replica node to replicate the write operation\n",
        "    for replica_node in self.replica_nodes:\n",
        "      replica_node.receive_replication(key, value)\n",
        "\n",
        "  # receive replicated data from other nodes\n",
        "  def receive_replication(self, key, value):\n",
        "    print(f\"Node {self.node_id}: Replication - Key: {key}, Value: {value}\")\n",
        "    self.data[key] = value\n",
        "\n",
        "  # simulates a read option on the database node\n",
        "  def read_data(self, key):\n",
        "    print(f\"Node {self.node_id}: Read Operation - Key: {key}, Value: {self.data.get(key, 'Not found')}\")\n",
        "    return self.data.get(key, None)\n",
        "\n",
        "\n",
        "  print(\"created the node that represents the distributed database system\")"
      ],
      "metadata": {
        "id": "Fg9TIbMGG90V",
        "colab": {
          "base_uri": "https://localhost:8080/"
        },
        "outputId": "bb90f057-d8ed-43e1-80ee-05138e8552ba"
      },
      "execution_count": null,
      "outputs": [
        {
          "output_type": "stream",
          "name": "stdout",
          "text": [
            "created the node that represents the distributed database system\n"
          ]
        }
      ]
    },
    {
      "cell_type": "code",
      "source": [
        "# simulates a continuous stream of write operations on a database node\n",
        "def simulate_writes(node):\n",
        "  # used to generate unique keys for write operation\n",
        "  i = 0\n",
        "  # continuous loop\n",
        "  while True:\n",
        "    node.write_data(f\" k - {i}\", f\" v - {i}\")\n",
        "    # ensure unique key-value pair\n",
        "    i += 1\n",
        "    # pause operation for 2 seconds before the next iteration\n",
        "    time.sleep(2)\n",
        "\n",
        "print(\"defined the methods to handle simulating a continuous stream of write operations\")"
      ],
      "metadata": {
        "colab": {
          "base_uri": "https://localhost:8080/"
        },
        "id": "3lu5TabsjalR",
        "outputId": "ec0d8670-9449-400b-e9a1-9c2c6909e5a3"
      },
      "execution_count": null,
      "outputs": [
        {
          "output_type": "stream",
          "name": "stdout",
          "text": [
            "defined the methods to handle simulating a continuous stream of write operations\n"
          ]
        }
      ]
    },
    {
      "cell_type": "code",
      "source": [
        "# create two node instances\n",
        "node1 = DatabaseNode(1)\n",
        "node2 = DatabaseNode(2)\n",
        "\n",
        "# set up replication between the two nodes\n",
        "node1.replica_nodes.append(node2)\n",
        "node2.replica_nodes.append(node1)\n",
        "\n",
        "print(\"initialized the node instances and set up node replication\")"
      ],
      "metadata": {
        "colab": {
          "base_uri": "https://localhost:8080/"
        },
        "id": "tEkhPcmEx01s",
        "outputId": "fa8b4088-877b-4c7f-c565-aa5810f200b6"
      },
      "execution_count": null,
      "outputs": [
        {
          "output_type": "stream",
          "name": "stdout",
          "text": [
            "initialized the node instances and set up node replication\n"
          ]
        }
      ]
    },
    {
      "cell_type": "code",
      "source": [
        "# start write operations for node1 in a seperate thread\n",
        "threading.Thread(target=simulate_writes, args=(node1,)).start()"
      ],
      "metadata": {
        "colab": {
          "base_uri": "https://localhost:8080/"
        },
        "id": "SSVuYiDXzyS0",
        "outputId": "ecb87b79-3d48-4f32-bef8-d1785bc44753"
      },
      "execution_count": null,
      "outputs": [
        {
          "output_type": "stream",
          "name": "stdout",
          "text": [
            "Node 1: Write Operation - Key:  k - 0, Value:  v - 0\n",
            "Node 2: Replication - Key:  k - 0, Value:  v - 0\n"
          ]
        }
      ]
    },
    {
      "cell_type": "code",
      "source": [
        "#initiates a read operation on node1\n",
        "node1.read_data(\"key0\")\n",
        "# pause 5 seconds to all write operations to be replicated between the nodes before reading again\n",
        "time.sleep(5)\n",
        "# performs a similar read operation on node2, allow for replication of write operations between the nodes\n",
        "node2.read_data(\"key0\")"
      ],
      "metadata": {
        "colab": {
          "base_uri": "https://localhost:8080/"
        },
        "id": "g5VNwA3g0hlw",
        "outputId": "98caeedd-24b9-4f3a-d64f-018370d561a6"
      },
      "execution_count": null,
      "outputs": [
        {
          "output_type": "stream",
          "name": "stdout",
          "text": [
            "Node 1: Read Operation - Key: key0, Value: Not found\n",
            "Node 1: Write Operation - Key:  k - 4, Value:  v - 4\n",
            "Node 2: Replication - Key:  k - 4, Value:  v - 4\n",
            "Node 1: Write Operation - Key:  k - 5, Value:  v - 5\n",
            "Node 2: Replication - Key:  k - 5, Value:  v - 5\n",
            "Node 1: Write Operation - Key:  k - 6, Value:  v - 6\n",
            "Node 2: Replication - Key:  k - 6, Value:  v - 6\n",
            "Node 2: Read Operation - Key: key0, Value: Not found\n"
          ]
        }
      ]
    }
  ]
}